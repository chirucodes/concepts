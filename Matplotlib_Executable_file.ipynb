{
  "nbformat": 4,
  "nbformat_minor": 0,
  "metadata": {
    "colab": {
      "name": "Matplotlib_Executable_file.ipynb",
      "provenance": [],
      "collapsed_sections": [],
      "authorship_tag": "ABX9TyPHbnY6wZizqae9w4/ugPzh",
      "include_colab_link": true
    },
    "kernelspec": {
      "name": "python3",
      "display_name": "Python 3"
    },
    "language_info": {
      "name": "python"
    }
  },
  "cells": [
    {
      "cell_type": "markdown",
      "metadata": {
        "id": "view-in-github",
        "colab_type": "text"
      },
      "source": [
        "<a href=\"https://colab.research.google.com/github/chirucodes/concepts/blob/master/Matplotlib_Executable_file.ipynb\" target=\"_parent\"><img src=\"https://colab.research.google.com/assets/colab-badge.svg\" alt=\"Open In Colab\"/></a>"
      ]
    },
    {
      "cell_type": "markdown",
      "metadata": {
        "id": "BvXfxeua4h3i"
      },
      "source": [
        "# Matplotlib\n",
        "*   Matplotlib supports 2D and 3D graphics\n",
        "*   "
      ]
    },
    {
      "cell_type": "code",
      "metadata": {
        "id": "aSvN2HBK45c5"
      },
      "source": [
        "from matplotlib import pylab"
      ],
      "execution_count": 73,
      "outputs": []
    },
    {
      "cell_type": "code",
      "metadata": {
        "colab": {
          "base_uri": "https://localhost:8080/"
        },
        "id": "cooAshcK5XlA",
        "outputId": "f6a909f0-776b-4af6-dac6-d348bd69c336"
      },
      "source": [
        "print(pylab.__version__)"
      ],
      "execution_count": 74,
      "outputs": [
        {
          "output_type": "stream",
          "name": "stdout",
          "text": [
            "1.19.5\n"
          ]
        }
      ]
    },
    {
      "cell_type": "code",
      "metadata": {
        "colab": {
          "base_uri": "https://localhost:8080/"
        },
        "id": "EN_2CZZF5dgR",
        "outputId": "ff724696-fa67-443c-e8de-d82368854767"
      },
      "source": [
        "# Create data\n",
        "\n",
        "import numpy as np\n",
        "x = np.linspace(0,10,11)\n",
        "x"
      ],
      "execution_count": 75,
      "outputs": [
        {
          "output_type": "execute_result",
          "data": {
            "text/plain": [
              "array([ 0.,  1.,  2.,  3.,  4.,  5.,  6.,  7.,  8.,  9., 10.])"
            ]
          },
          "metadata": {},
          "execution_count": 75
        }
      ]
    },
    {
      "cell_type": "code",
      "metadata": {
        "colab": {
          "base_uri": "https://localhost:8080/"
        },
        "id": "1Zsg4cbN5uZ5",
        "outputId": "c50cfaab-8d69-42ba-9e29-f9749c0c6825"
      },
      "source": [
        "x = np.linspace(0,10,25)\n",
        "x"
      ],
      "execution_count": 76,
      "outputs": [
        {
          "output_type": "execute_result",
          "data": {
            "text/plain": [
              "array([ 0.        ,  0.41666667,  0.83333333,  1.25      ,  1.66666667,\n",
              "        2.08333333,  2.5       ,  2.91666667,  3.33333333,  3.75      ,\n",
              "        4.16666667,  4.58333333,  5.        ,  5.41666667,  5.83333333,\n",
              "        6.25      ,  6.66666667,  7.08333333,  7.5       ,  7.91666667,\n",
              "        8.33333333,  8.75      ,  9.16666667,  9.58333333, 10.        ])"
            ]
          },
          "metadata": {},
          "execution_count": 76
        }
      ]
    },
    {
      "cell_type": "code",
      "metadata": {
        "colab": {
          "base_uri": "https://localhost:8080/"
        },
        "id": "6_X1V99WDeET",
        "outputId": "18a3f1fe-6194-4dae-d538-9ed5aa83ac20"
      },
      "source": [
        "y = x * x + 2\n",
        "y"
      ],
      "execution_count": 77,
      "outputs": [
        {
          "output_type": "execute_result",
          "data": {
            "text/plain": [
              "array([  2.        ,   2.17361111,   2.69444444,   3.5625    ,\n",
              "         4.77777778,   6.34027778,   8.25      ,  10.50694444,\n",
              "        13.11111111,  16.0625    ,  19.36111111,  23.00694444,\n",
              "        27.        ,  31.34027778,  36.02777778,  41.0625    ,\n",
              "        46.44444444,  52.17361111,  58.25      ,  64.67361111,\n",
              "        71.44444444,  78.5625    ,  86.02777778,  93.84027778,\n",
              "       102.        ])"
            ]
          },
          "metadata": {},
          "execution_count": 77
        }
      ]
    },
    {
      "cell_type": "code",
      "metadata": {
        "id": "EWB3WHyoDqba"
      },
      "source": [
        "raw_array = np.array([x,y])"
      ],
      "execution_count": 78,
      "outputs": []
    },
    {
      "cell_type": "code",
      "metadata": {
        "colab": {
          "base_uri": "https://localhost:8080/"
        },
        "id": "gHoDs5lVD1Mh",
        "outputId": "cfe577e5-b866-4b7a-80ff-6172498c4159"
      },
      "source": [
        "raw_array"
      ],
      "execution_count": 79,
      "outputs": [
        {
          "output_type": "execute_result",
          "data": {
            "text/plain": [
              "array([[  0.        ,   0.41666667,   0.83333333,   1.25      ,\n",
              "          1.66666667,   2.08333333,   2.5       ,   2.91666667,\n",
              "          3.33333333,   3.75      ,   4.16666667,   4.58333333,\n",
              "          5.        ,   5.41666667,   5.83333333,   6.25      ,\n",
              "          6.66666667,   7.08333333,   7.5       ,   7.91666667,\n",
              "          8.33333333,   8.75      ,   9.16666667,   9.58333333,\n",
              "         10.        ],\n",
              "       [  2.        ,   2.17361111,   2.69444444,   3.5625    ,\n",
              "          4.77777778,   6.34027778,   8.25      ,  10.50694444,\n",
              "         13.11111111,  16.0625    ,  19.36111111,  23.00694444,\n",
              "         27.        ,  31.34027778,  36.02777778,  41.0625    ,\n",
              "         46.44444444,  52.17361111,  58.25      ,  64.67361111,\n",
              "         71.44444444,  78.5625    ,  86.02777778,  93.84027778,\n",
              "        102.        ]])"
            ]
          },
          "metadata": {},
          "execution_count": 79
        }
      ]
    },
    {
      "cell_type": "code",
      "metadata": {
        "colab": {
          "base_uri": "https://localhost:8080/"
        },
        "id": "lU2D8oayD4Oa",
        "outputId": "9eb223c5-b309-405d-8516-1fe5b94c7c55"
      },
      "source": [
        "raw_array.shape"
      ],
      "execution_count": 80,
      "outputs": [
        {
          "output_type": "execute_result",
          "data": {
            "text/plain": [
              "(2, 25)"
            ]
          },
          "metadata": {},
          "execution_count": 80
        }
      ]
    },
    {
      "cell_type": "code",
      "metadata": {
        "colab": {
          "base_uri": "https://localhost:8080/"
        },
        "id": "bEYmVPY7D9AS",
        "outputId": "2c372a43-591b-46fe-e8c9-2516af593bfe"
      },
      "source": [
        "# Preparing x,y plots for creating charts\n",
        "x_y_points = raw_array.reshape(25,2)\n",
        "x_y_points"
      ],
      "execution_count": 81,
      "outputs": [
        {
          "output_type": "execute_result",
          "data": {
            "text/plain": [
              "array([[  0.        ,   0.41666667],\n",
              "       [  0.83333333,   1.25      ],\n",
              "       [  1.66666667,   2.08333333],\n",
              "       [  2.5       ,   2.91666667],\n",
              "       [  3.33333333,   3.75      ],\n",
              "       [  4.16666667,   4.58333333],\n",
              "       [  5.        ,   5.41666667],\n",
              "       [  5.83333333,   6.25      ],\n",
              "       [  6.66666667,   7.08333333],\n",
              "       [  7.5       ,   7.91666667],\n",
              "       [  8.33333333,   8.75      ],\n",
              "       [  9.16666667,   9.58333333],\n",
              "       [ 10.        ,   2.        ],\n",
              "       [  2.17361111,   2.69444444],\n",
              "       [  3.5625    ,   4.77777778],\n",
              "       [  6.34027778,   8.25      ],\n",
              "       [ 10.50694444,  13.11111111],\n",
              "       [ 16.0625    ,  19.36111111],\n",
              "       [ 23.00694444,  27.        ],\n",
              "       [ 31.34027778,  36.02777778],\n",
              "       [ 41.0625    ,  46.44444444],\n",
              "       [ 52.17361111,  58.25      ],\n",
              "       [ 64.67361111,  71.44444444],\n",
              "       [ 78.5625    ,  86.02777778],\n",
              "       [ 93.84027778, 102.        ]])"
            ]
          },
          "metadata": {},
          "execution_count": 81
        }
      ]
    },
    {
      "cell_type": "code",
      "metadata": {
        "colab": {
          "base_uri": "https://localhost:8080/"
        },
        "id": "jxj4dGe_EHSq",
        "outputId": "9f2063c1-2571-4349-b356-08d46c4f93da"
      },
      "source": [
        "x_y_points.shape"
      ],
      "execution_count": 82,
      "outputs": [
        {
          "output_type": "execute_result",
          "data": {
            "text/plain": [
              "(25, 2)"
            ]
          },
          "metadata": {},
          "execution_count": 82
        }
      ]
    },
    {
      "cell_type": "code",
      "metadata": {
        "colab": {
          "base_uri": "https://localhost:8080/"
        },
        "id": "dE0p2UpdEqTX",
        "outputId": "a56990dd-3698-43f8-c77b-af1e4b80e9a7"
      },
      "source": [
        "print(x)\n",
        "print(y)"
      ],
      "execution_count": 83,
      "outputs": [
        {
          "output_type": "stream",
          "name": "stdout",
          "text": [
            "[ 0.          0.41666667  0.83333333  1.25        1.66666667  2.08333333\n",
            "  2.5         2.91666667  3.33333333  3.75        4.16666667  4.58333333\n",
            "  5.          5.41666667  5.83333333  6.25        6.66666667  7.08333333\n",
            "  7.5         7.91666667  8.33333333  8.75        9.16666667  9.58333333\n",
            " 10.        ]\n",
            "[  2.           2.17361111   2.69444444   3.5625       4.77777778\n",
            "   6.34027778   8.25        10.50694444  13.11111111  16.0625\n",
            "  19.36111111  23.00694444  27.          31.34027778  36.02777778\n",
            "  41.0625      46.44444444  52.17361111  58.25        64.67361111\n",
            "  71.44444444  78.5625      86.02777778  93.84027778 102.        ]\n"
          ]
        }
      ]
    },
    {
      "cell_type": "code",
      "metadata": {
        "colab": {
          "base_uri": "https://localhost:8080/",
          "height": 282
        },
        "id": "r-m7RrlkEwIj",
        "outputId": "31d2aaac-d51e-4849-a043-28d3b6a6ccde"
      },
      "source": [
        "# canvas chart\n",
        "pylab.plot(x,y)"
      ],
      "execution_count": 84,
      "outputs": [
        {
          "output_type": "execute_result",
          "data": {
            "text/plain": [
              "[<matplotlib.lines.Line2D at 0x7f33c90912d0>]"
            ]
          },
          "metadata": {},
          "execution_count": 84
        },
        {
          "output_type": "display_data",
          "data": {
            "image/png": "[encoded data removed]",
            "text/plain": [
              "<Figure size 432x288 with 1 Axes>"
            ]
          },
          "metadata": {
            "needs_background": "light"
          }
        }
      ]
    },
    {
      "cell_type": "code",
      "metadata": {
        "colab": {
          "base_uri": "https://localhost:8080/",
          "height": 282
        },
        "id": "APWha5wAE2iM",
        "outputId": "b5bac72f-9aa6-4ba6-910c-b06bb32059c7"
      },
      "source": [
        "pylab.plot(x,y, 'r') # 'r' is for color of the chart - tested g, y, black, '#FF9D7E'"
      ],
      "execution_count": 85,
      "outputs": [
        {
          "output_type": "execute_result",
          "data": {
            "text/plain": [
              "[<matplotlib.lines.Line2D at 0x7f33c8dfed90>]"
            ]
          },
          "metadata": {},
          "execution_count": 85
        },
        {
          "output_type": "display_data",
          "data": {
            "image/png": "[encoded data removed]",
            "text/plain": [
              "<Figure size 432x288 with 1 Axes>"
            ]
          },
          "metadata": {
            "needs_background": "light"
          }
        }
      ]
    },
    {
      "cell_type": "code",
      "metadata": {
        "colab": {
          "base_uri": "https://localhost:8080/",
          "height": 282
        },
        "id": "PpeW65S3FOO9",
        "outputId": "324ec9f3-719a-42e7-c7e3-b7ce431a9d11"
      },
      "source": [
        "pylab.plot(y,x)"
      ],
      "execution_count": 86,
      "outputs": [
        {
          "output_type": "execute_result",
          "data": {
            "text/plain": [
              "[<matplotlib.lines.Line2D at 0x7f33c8e30610>]"
            ]
          },
          "metadata": {},
          "execution_count": 86
        },
        {
          "output_type": "display_data",
          "data": {
            "image/png": "[encoded data removed]",
            "text/plain": [
              "<Figure size 432x288 with 1 Axes>"
            ]
          },
          "metadata": {
            "needs_background": "light"
          }
        }
      ]
    },
    {
      "cell_type": "code",
      "metadata": {
        "colab": {
          "base_uri": "https://localhost:8080/",
          "height": 286
        },
        "id": "Fkr_xLdVFfxf",
        "outputId": "c5b5e298-18b5-4a3e-ac32-e1882446816a"
      },
      "source": [
        "# subgraph\n",
        "pylab.subplot()"
      ],
      "execution_count": 87,
      "outputs": [
        {
          "output_type": "execute_result",
          "data": {
            "text/plain": [
              "<matplotlib.axes._subplots.AxesSubplot at 0x7f33c9188ed0>"
            ]
          },
          "metadata": {},
          "execution_count": 87
        },
        {
          "output_type": "display_data",
          "data": {
            "image/png": "[encoded data removed]",
            "text/plain": [
              "<Figure size 432x288 with 1 Axes>"
            ]
          },
          "metadata": {
            "needs_background": "light"
          }
        }
      ]
    },
    {
      "cell_type": "code",
      "metadata": {
        "colab": {
          "base_uri": "https://localhost:8080/",
          "height": 168
        },
        "id": "PV0bqryxF0_1",
        "outputId": "3448d0fe-6a86-4cf4-ab62-fa51852a0481"
      },
      "source": [
        "pylab.subplot(1,2,2)  \n",
        "pylab.subplot(2,1,1)  "
      ],
      "execution_count": 88,
      "outputs": [
        {
          "output_type": "execute_result",
          "data": {
            "text/plain": [
              "<matplotlib.axes._subplots.AxesSubplot at 0x7f33c8eb0750>"
            ]
          },
          "metadata": {},
          "execution_count": 88
        },
        {
          "output_type": "display_data",
          "data": {
            "image/png": "[encoded data removed]",
            "text/plain": [
              "<Figure size 432x288 with 1 Axes>"
            ]
          },
          "metadata": {
            "needs_background": "light"
          }
        }
      ]
    },
    {
      "cell_type": "code",
      "metadata": {
        "colab": {
          "base_uri": "https://localhost:8080/",
          "height": 282
        },
        "id": "X7R5TeNBJ3No",
        "outputId": "006075bf-addd-4553-ea0b-0ef1114acce4"
      },
      "source": [
        "print(pylab.plot(x,y,'r--'))\n",
        "\n"
      ],
      "execution_count": 89,
      "outputs": [
        {
          "output_type": "stream",
          "name": "stdout",
          "text": [
            "[<matplotlib.lines.Line2D object at 0x7f33c90d2490>]\n"
          ]
        },
        {
          "output_type": "display_data",
          "data": {
            "image/png": "[encoded data removed]",
            "text/plain": [
              "<Figure size 432x288 with 1 Axes>"
            ]
          },
          "metadata": {
            "needs_background": "light"
          }
        }
      ]
    },
    {
      "cell_type": "code",
      "metadata": {
        "colab": {
          "base_uri": "https://localhost:8080/",
          "height": 282
        },
        "id": "B5fLtRb8K0IG",
        "outputId": "d3e86072-e62c-4c87-fe4e-d88c782065df"
      },
      "source": [
        "print(pylab.plot(x,y,'r-+'))\n"
      ],
      "execution_count": 90,
      "outputs": [
        {
          "output_type": "stream",
          "name": "stdout",
          "text": [
            "[<matplotlib.lines.Line2D object at 0x7f33c8d8b750>]\n"
          ]
        },
        {
          "output_type": "display_data",
          "data": {
            "image/png": "[encoded data removed]",
            "text/plain": [
              "<Figure size 432x288 with 1 Axes>"
            ]
          },
          "metadata": {
            "needs_background": "light"
          }
        }
      ]
    },
    {
      "cell_type": "code",
      "metadata": {
        "colab": {
          "base_uri": "https://localhost:8080/",
          "height": 282
        },
        "id": "vpnwvz88K32O",
        "outputId": "5c1e54b6-a9ac-418f-8a4a-f70b3cda0d74"
      },
      "source": [
        "print(pylab.plot(x,y,'r+-'))"
      ],
      "execution_count": 91,
      "outputs": [
        {
          "output_type": "stream",
          "name": "stdout",
          "text": [
            "[<matplotlib.lines.Line2D object at 0x7f33c8cf4350>]\n"
          ]
        },
        {
          "output_type": "display_data",
          "data": {
            "image/png": "[encoded data removed]",
            "text/plain": [
              "<Figure size 432x288 with 1 Axes>"
            ]
          },
          "metadata": {
            "needs_background": "light"
          }
        }
      ]
    },
    {
      "cell_type": "code",
      "metadata": {
        "colab": {
          "base_uri": "https://localhost:8080/",
          "height": 282
        },
        "id": "WFpVSB88K9Cu",
        "outputId": "f45acddc-068f-40c7-b679-770e47ab972c"
      },
      "source": [
        "print(pylab.plot(x,y,'r-*'))"
      ],
      "execution_count": 92,
      "outputs": [
        {
          "output_type": "stream",
          "name": "stdout",
          "text": [
            "[<matplotlib.lines.Line2D object at 0x7f33c8cdb190>]\n"
          ]
        },
        {
          "output_type": "display_data",
          "data": {
            "image/png": "[encoded data removed]",
            "text/plain": [
              "<Figure size 432x288 with 1 Axes>"
            ]
          },
          "metadata": {
            "needs_background": "light"
          }
        }
      ]
    },
    {
      "cell_type": "code",
      "metadata": {
        "colab": {
          "base_uri": "https://localhost:8080/",
          "height": 282
        },
        "id": "YXeVHw9dK_Td",
        "outputId": "1716686d-794b-477b-f325-3facc9b51d82"
      },
      "source": [
        "print(pylab.plot(x,y,'r*-'))"
      ],
      "execution_count": 93,
      "outputs": [
        {
          "output_type": "stream",
          "name": "stdout",
          "text": [
            "[<matplotlib.lines.Line2D object at 0x7f33c8c3af90>]\n"
          ]
        },
        {
          "output_type": "display_data",
          "data": {
            "image/png": "[encoded data removed]",
            "text/plain": [
              "<Figure size 432x288 with 1 Axes>"
            ]
          },
          "metadata": {
            "needs_background": "light"
          }
        }
      ]
    },
    {
      "cell_type": "code",
      "metadata": {
        "colab": {
          "base_uri": "https://localhost:8080/",
          "height": 282
        },
        "id": "E62L5YbJLJq1",
        "outputId": "402928a5-7b9b-4818-e1be-2a1d1d56fb69"
      },
      "source": [
        "print(pylab.plot(x,y,'r->'))"
      ],
      "execution_count": 94,
      "outputs": [
        {
          "output_type": "stream",
          "name": "stdout",
          "text": [
            "[<matplotlib.lines.Line2D object at 0x7f33c8c21dd0>]\n"
          ]
        },
        {
          "output_type": "display_data",
          "data": {
            "image/png": "[encoded data removed]",
            "text/plain": [
              "<Figure size 432x288 with 1 Axes>"
            ]
          },
          "metadata": {
            "needs_background": "light"
          }
        }
      ]
    },
    {
      "cell_type": "code",
      "metadata": {
        "colab": {
          "base_uri": "https://localhost:8080/",
          "height": 282
        },
        "id": "BfUmEjmjLM_F",
        "outputId": "556fa0d0-ff2f-459d-bb96-4c6d267de9d8"
      },
      "source": [
        "print(pylab.plot(x,y,'r-<'))"
      ],
      "execution_count": 95,
      "outputs": [
        {
          "output_type": "stream",
          "name": "stdout",
          "text": [
            "[<matplotlib.lines.Line2D object at 0x7f33c8b8cc10>]\n"
          ]
        },
        {
          "output_type": "display_data",
          "data": {
            "image/png": "[encoded data removed]",
            "text/plain": [
              "<Figure size 432x288 with 1 Axes>"
            ]
          },
          "metadata": {
            "needs_background": "light"
          }
        }
      ]
    },
    {
      "cell_type": "code",
      "metadata": {
        "colab": {
          "base_uri": "https://localhost:8080/",
          "height": 164
        },
        "id": "-oudcwjvLS-1",
        "outputId": "598a469f-de05-45c7-904f-12368264d938"
      },
      "source": [
        "pylab.subplot(2,10,2)\n",
        "print(pylab.plot(x,y,'r-+'))"
      ],
      "execution_count": 103,
      "outputs": [
        {
          "output_type": "stream",
          "name": "stdout",
          "text": [
            "[<matplotlib.lines.Line2D object at 0x7f33c94e7750>]\n"
          ]
        },
        {
          "output_type": "display_data",
          "data": {
            "image/png": "[encoded data removed]",
            "text/plain": [
              "<Figure size 432x288 with 1 Axes>"
            ]
          },
          "metadata": {
            "needs_background": "light"
          }
        }
      ]
    },
    {
      "cell_type": "code",
      "metadata": {
        "colab": {
          "base_uri": "https://localhost:8080/",
          "height": 86
        },
        "id": "N23qIuJiMPNu",
        "outputId": "2dc5577b-d780-4c89-83e9-c018a4339f27"
      },
      "source": [
        "pylab.subplot(10,2,2)\n",
        "print(pylab.plot(x,y,'r-+'))"
      ],
      "execution_count": 102,
      "outputs": [
        {
          "output_type": "stream",
          "name": "stdout",
          "text": [
            "[<matplotlib.lines.Line2D object at 0x7f33c92f2410>]\n"
          ]
        },
        {
          "output_type": "display_data",
          "data": {
            "image/png": "[encoded data removed]",
            "text/plain": [
              "<Figure size 432x288 with 1 Axes>"
            ]
          },
          "metadata": {
            "needs_background": "light"
          }
        }
      ]
    },
    {
      "cell_type": "code",
      "metadata": {
        "id": "ms8FfcdWPfPg"
      },
      "source": [
        "from matplotlib import pyplot as plt"
      ],
      "execution_count": 105,
      "outputs": []
    },
    {
      "cell_type": "code",
      "metadata": {
        "colab": {
          "base_uri": "https://localhost:8080/",
          "height": 51
        },
        "id": "naAxifQxPo8N",
        "outputId": "bfe7884d-125c-4ebc-9670-446bf77b1a02"
      },
      "source": [
        "fig = plt.figure()\n",
        "fig"
      ],
      "execution_count": 108,
      "outputs": [
        {
          "output_type": "execute_result",
          "data": {
            "text/plain": [
              "<Figure size 432x288 with 0 Axes>"
            ]
          },
          "metadata": {},
          "execution_count": 108
        },
        {
          "output_type": "display_data",
          "data": {
            "text/plain": [
              "<Figure size 432x288 with 0 Axes>"
            ]
          },
          "metadata": {}
        }
      ]
    },
    {
      "cell_type": "code",
      "metadata": {
        "colab": {
          "base_uri": "https://localhost:8080/"
        },
        "id": "Q6XHS2dFPzwt",
        "outputId": "b60d1a1a-8e4d-4c95-89c3-f8bf81219b90"
      },
      "source": [
        "axis = fig.add_axes([0.5, 0.1, 0.8, 0.8]) # #control the left, right, width and height of the canvas graph ( from 0 to 1)\n",
        "axis"
      ],
      "execution_count": 111,
      "outputs": [
        {
          "output_type": "execute_result",
          "data": {
            "text/plain": [
              "<matplotlib.axes._axes.Axes at 0x7f33c93a0350>"
            ]
          },
          "metadata": {},
          "execution_count": 111
        }
      ]
    },
    {
      "cell_type": "code",
      "metadata": {
        "colab": {
          "base_uri": "https://localhost:8080/",
          "height": 282
        },
        "id": "qkA1fErMQq8W",
        "outputId": "03c99818-c5c4-4ab4-a424-f066713fdcae"
      },
      "source": [
        "pylab.plot(x,y,'r-')[0]"
      ],
      "execution_count": 175,
      "outputs": [
        {
          "output_type": "execute_result",
          "data": {
            "text/plain": [
              "<matplotlib.lines.Line2D at 0x7f33c8cfe090>"
            ]
          },
          "metadata": {},
          "execution_count": 175
        },
        {
          "output_type": "display_data",
          "data": {
            "image/png": "[encoded data removed]",
            "text/plain": [
              "<Figure size 432x288 with 1 Axes>"
            ]
          },
          "metadata": {
            "needs_background": "light"
          }
        }
      ]
    },
    {
      "cell_type": "code",
      "metadata": {
        "colab": {
          "base_uri": "https://localhost:8080/",
          "height": 35
        },
        "id": "4VNI42vFYIv_",
        "outputId": "e466fa9e-1bcb-4aa4-bae8-1eea8149eac5"
      },
      "source": [
        "# To resolve matplotlib figures not showing up or displaying\n",
        "# https://www.pyimagesearch.com/2015/08/24/resolved-matplotlib-figures-not-showing-up-or-displaying/\n",
        "\n",
        "import matplotlib\n",
        "matplotlib.get_backend()\n",
        "matplotlib.use(\"TkAgg\")\n",
        "matplotlib.get_backend()\n"
      ],
      "execution_count": 176,
      "outputs": [
        {
          "output_type": "execute_result",
          "data": {
            "application/vnd.google.colaboratory.intrinsic+json": {
              "type": "string"
            },
            "text/plain": [
              "'TkAgg'"
            ]
          },
          "metadata": {},
          "execution_count": 176
        }
      ]
    },
    {
      "cell_type": "code",
      "metadata": {
        "colab": {
          "base_uri": "https://localhost:8080/"
        },
        "id": "MgDnlH2zQ_yK",
        "outputId": "5d5c5b86-69fe-44f6-ba89-f163d467dcea"
      },
      "source": [
        "# axis.plot(x,y,'r')\n",
        "#plt.show()\n",
        "# dir(axis)\n",
        "# axis.show() #x, y, 'r')\n",
        "# pylab.show()"
      ],
      "execution_count": 173,
      "outputs": [
        {
          "output_type": "execute_result",
          "data": {
            "text/plain": [
              "[<matplotlib.lines.Line2D at 0x7f33c6140090>]"
            ]
          },
          "metadata": {},
          "execution_count": 173
        }
      ]
    },
    {
      "cell_type": "code",
      "metadata": {
        "colab": {
          "base_uri": "https://localhost:8080/",
          "height": 269
        },
        "id": "uMkWmHCnRXt4",
        "outputId": "2757b423-b6c8-47e0-cf75-484e3bd23db6"
      },
      "source": [
        "fig, axes = plt.subplots(nrows = 1, ncols = 2) # submap is of 1 row and 2 columns"
      ],
      "execution_count": 177,
      "outputs": [
        {
          "output_type": "display_data",
          "data": {
            "image/png": "[encoded data removed]",
            "text/plain": [
              "<Figure size 432x288 with 2 Axes>"
            ]
          },
          "metadata": {
            "needs_background": "light"
          }
        }
      ]
    },
    {
      "cell_type": "code",
      "metadata": {
        "colab": {
          "base_uri": "https://localhost:8080/",
          "height": 269
        },
        "id": "T1q4gnySRrZA",
        "outputId": "24a60791-e96b-47d3-a780-bf53db6e81f6"
      },
      "source": [
        "fig.show()\n",
        "fig"
      ],
      "execution_count": 178,
      "outputs": [
        {
          "output_type": "execute_result",
          "data": {
            "image/png": "[encoded data removed]",
            "text/plain": [
              "<Figure size 432x288 with 2 Axes>"
            ]
          },
          "metadata": {},
          "execution_count": 178
        }
      ]
    },
    {
      "cell_type": "code",
      "metadata": {
        "colab": {
          "base_uri": "https://localhost:8080/"
        },
        "id": "W5yss9tdRsqF",
        "outputId": "5a8b6b90-a1c1-4add-b41f-52402c37261a"
      },
      "source": [
        "axes"
      ],
      "execution_count": 179,
      "outputs": [
        {
          "output_type": "execute_result",
          "data": {
            "text/plain": [
              "array([<matplotlib.axes._subplots.AxesSubplot object at 0x7f33c8d9d250>,\n",
              "       <matplotlib.axes._subplots.AxesSubplot object at 0x7f33c8c94750>],\n",
              "      dtype=object)"
            ]
          },
          "metadata": {},
          "execution_count": 179
        }
      ]
    },
    {
      "cell_type": "code",
      "metadata": {
        "id": "y6ZBsvTSRvqu"
      },
      "source": [
        "for ax in axes:\n",
        "    ax.plot(x,  y, 'r')"
      ],
      "execution_count": 180,
      "outputs": []
    }
  ]
}